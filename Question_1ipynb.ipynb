{
  "cells": [
    {
      "cell_type": "markdown",
      "metadata": {
        "id": "view-in-github",
        "colab_type": "text"
      },
      "source": [
        "<a href=\"https://colab.research.google.com/github/MayaHayat/Ex4_DiscreteVsContinuous/blob/main/Question_1ipynb.ipynb\" target=\"_parent\"><img src=\"https://colab.research.google.com/assets/colab-badge.svg\" alt=\"Open In Colab\"/></a>"
      ]
    },
    {
      "cell_type": "code",
      "source": [
        "import time\n",
        "import cvxpy\n",
        "import numpy as np\n",
        "import matplotlib.pyplot as plt\n",
        "import doctest"
      ],
      "metadata": {
        "id": "QWMF39Vp99xR"
      },
      "execution_count": null,
      "outputs": []
    },
    {
      "cell_type": "markdown",
      "source": [
        "# Discrete"
      ],
      "metadata": {
        "id": "odto3wMv9Qsv"
      }
    },
    {
      "cell_type": "code",
      "source": [
        "def egalitarian_allocation(valuations):\n",
        "    \"\"\"\n",
        "    Examples:\n",
        "    >>> valuations = [[11, 11, 22, 33, 44], [11, 22, 44, 55, 66], [11, 33, 22, 11, 66]]\n",
        "    >>> execution_time, num_resources = egalitarian_allocation(valuations)\n",
        "    player 0 gets:  item 0 (11), item 4 (44),\n",
        "    player 1 gets:  item 3 (55),\n",
        "    player 2 gets:  item 1 (33), item 2 (22),\n",
        "\n",
        "\n",
        "    >>> valuations = [[11, 11, 11, 11, 11], [11, 11, 11, 11, 11], [11, 11, 11, 11, 11]]\n",
        "    >>> execution_time, num_resources = egalitarian_allocation(valuations)\n",
        "    player 0 gets:  item 3 (11), item 4 (11),\n",
        "    player 1 gets:  item 0 (11), item 2 (11),\n",
        "    player 2 gets:  item 1 (11),\n",
        "\n",
        "    >>> valuations = [[22, 11, 11, 11, 11], [11, 11, 11, 11, 11], [11, 11, 11, 11, 11]]\n",
        "    >>> execution_time, num_resources = egalitarian_allocation(valuations)\n",
        "    player 0 gets:  item 0 (22),\n",
        "    player 1 gets:  item 1 (11), item 2 (11),\n",
        "    player 2 gets:  item 3 (11), item 4 (11),\n",
        "    \"\"\"\n",
        "    num_agents = len(valuations)\n",
        "    num_resources = len(valuations[0])\n",
        "    variables = []\n",
        "    utilities = []\n",
        "\n",
        "    for i in range(num_agents):\n",
        "        utility = 0\n",
        "        for j in range(num_resources):\n",
        "            variables.append(cvxpy.Variable(num_agents, integer=True))\n",
        "            utility += variables[j][i] * valuations[i][j]\n",
        "        utilities.append(utility)\n",
        "\n",
        "    min_utility = cvxpy.Variable()\n",
        "\n",
        "    fixed_constraints = [\n",
        "        variables[i][j] >= 0 for i in range(num_resources) for j in range(num_agents)\n",
        "    ] + [\n",
        "        variables[i][j] <= 1 for i in range(num_resources) for j in range(num_agents)\n",
        "    ] + [\n",
        "        utilities[i] >= min_utility for i in range(num_agents)\n",
        "    ] + [\n",
        "        sum(variables[i]) == 1 for i in range(num_resources)\n",
        "    ]\n",
        "\n",
        "    prob = cvxpy.Problem(cvxpy.Maximize(min_utility), constraints=fixed_constraints)\n",
        "    start_time = time.time()\n",
        "    prob.solve(solver=cvxpy.GLPK_MI)\n",
        "    end_time = time.time()\n",
        "    execution_time = end_time - start_time\n",
        "\n",
        "    for i in range(num_agents):\n",
        "        print(f\"player {i} gets: \", end=\" \")\n",
        "        for j in range(num_resources):\n",
        "            if variables[j][i].value > 0:\n",
        "                print(f\"item {j} ({round(variables[j][i].value) * valuations[i][j]}), \", end=\"\")\n",
        "        print()\n",
        "\n",
        "    return execution_time, num_resources\n",
        "\n",
        "if __name__ == \"__main__\":\n",
        "    import doctest\n",
        "    doctest.testmod()\n"
      ],
      "metadata": {
        "colab": {
          "base_uri": "https://localhost:8080/"
        },
        "id": "cbn0PYeKh4S6",
        "outputId": "d10bf937-c7ea-4b92-f21f-34e466ce4f7f"
      },
      "execution_count": null,
      "outputs": [
        {
          "output_type": "stream",
          "name": "stderr",
          "text": [
            "\n",
            "PYDEV DEBUGGER WARNING:\n",
            "sys.settrace() should not be used when the debugger is being used.\n",
            "This may cause the debugger to stop working correctly.\n",
            "If this is needed, please check: \n",
            "http://pydev.blogspot.com/2007/06/why-cant-pydev-debugger-work-with.html\n",
            "to see how to restore the debug tracing back correctly.\n",
            "Call Location:\n",
            "  File \"/usr/lib/python3.10/doctest.py\", line 1501, in run\n",
            "    sys.settrace(save_trace)\n",
            "\n"
          ]
        }
      ]
    },
    {
      "cell_type": "markdown",
      "source": [
        "# Continuous"
      ],
      "metadata": {
        "id": "3diPFiEp1W1G"
      }
    },
    {
      "cell_type": "code",
      "execution_count": null,
      "metadata": {
        "id": "P0LvsoA3v7AX"
      },
      "outputs": [],
      "source": [
        "\n",
        "# Continuous\n",
        "def egalitarian_allocation_continuous(valuations: list[list[float]]):\n",
        "    # Declare the variables and utility\n",
        "    num_of_players = len(valuations)\n",
        "    num_of_resources = len(valuations[0])\n",
        "    variables = []\n",
        "    utility_for_player = []\n",
        "\n",
        "    # Calculation of the utility for all player\n",
        "    for i in range(num_of_players):\n",
        "        utility = 0\n",
        "        for j in range(num_of_resources):\n",
        "            variables.append(cvxpy.Variable(num_of_players))  # fractions of all the resources by number of player\n",
        "            utility += variables[j][i] * valuations[i][j]  # Calculation of the utility for player i\n",
        "        utility_for_player.append(utility)  # insert  utility for player i to utility list\n",
        "\n",
        "    min_utility = cvxpy.Variable()\n",
        "\n",
        "    # list all the constraints for the maximize function\n",
        "    fixed_constraints = \\\n",
        "        [variables[i][j] >= 0 for i in range(num_of_resources) for j in range(num_of_players)] + \\\n",
        "        [variables[i][j] <= 1 for i in range(num_of_resources) for j in range(num_of_players)] + \\\n",
        "        [utility_for_player[i] >= min_utility for i in range(num_of_players)] + \\\n",
        "        [sum(variables[i]) == 1 for i in range(num_of_resources)]\n",
        "\n",
        "    # solve the equation\n",
        "    prob = cvxpy.Problem(cvxpy.Maximize(min_utility), constraints=fixed_constraints)\n",
        "    start_time = time.time()\n",
        "    prob.solve(solver=cvxpy.ECOS)\n",
        "    end_time = time.time()\n",
        "    execution_time = end_time - start_time\n",
        "    print(\"Execution time:\", execution_time)\n",
        "\n",
        "    # print the result\n",
        "    for i in range(num_of_players):\n",
        "        print(f\"player {i} receives \", end=\" \")\n",
        "        for j in range(num_of_resources):\n",
        "            if j == 0:\n",
        "                print(f\"{abs(round(variables[j][i].value * 100, 2))}% of resource {j}\", end=\"\")\n",
        "            else:\n",
        "                print(f\" and {abs(round(variables[j][i].value * 100, 2))}% of resource {j}\", end=\"\")\n",
        "        print()\n",
        "\n",
        "    return execution_time, num_of_resources\n"
      ]
    },
    {
      "cell_type": "code",
      "source": [
        "execution_times_discrete = []\n",
        "num_resources_list_discrete = []\n",
        "\n",
        "\n",
        "def run_discrete(valuations: list[list[float]]):\n",
        "  execution_time, num_resources = egalitarian_allocation(valuations)\n",
        "  execution_times_discrete.append(execution_time)\n",
        "  num_resources_list_discrete.append(num_resources)\n"
      ],
      "metadata": {
        "id": "McUU6uA78F3a"
      },
      "execution_count": null,
      "outputs": []
    },
    {
      "cell_type": "code",
      "source": [
        "execution_times_continuous = []\n",
        "num_resources_list_continuous = []\n",
        "\n",
        "\n",
        "def run_continuous(valuations: list[list[float]]):\n",
        "  execution_time, num_resources = egalitarian_allocation_continuous(valuations)\n",
        "  execution_times_continuous.append(execution_time)\n",
        "  num_resources_list_continuous.append(num_resources)\n"
      ],
      "metadata": {
        "id": "kPMPDyOU3yVD"
      },
      "execution_count": null,
      "outputs": []
    },
    {
      "cell_type": "code",
      "source": [
        "\n",
        "# Set a seed for reproducibility\n",
        "np.random.seed(42)\n",
        "\n",
        "# Create three arrays of changing sizes with random numbers\n",
        "array1 = np.random.rand(100)\n",
        "array2 = np.random.rand(100)\n",
        "array3 = np.random.rand(100)\n",
        "\n",
        "valuations=[array1, array2, array3]"
      ],
      "metadata": {
        "id": "PQX48pZN5mfO"
      },
      "execution_count": null,
      "outputs": []
    },
    {
      "cell_type": "code",
      "source": [
        "run_discrete(valuations)\n",
        "\n",
        "print(\"time: \", execution_times_discrete)\n",
        "print(\"number: \", num_resources_list_discrete)"
      ],
      "metadata": {
        "id": "lAcr3aG88c4v",
        "colab": {
          "base_uri": "https://localhost:8080/"
        },
        "outputId": "7c1b8241-3785-40fe-cb57-76bcea669910"
      },
      "execution_count": null,
      "outputs": [
        {
          "output_type": "stream",
          "name": "stdout",
          "text": [
            "time:  [0.07171821594238281, 0.06940007209777832, 0.09813857078552246, 0.28099966049194336, 0.24066734313964844, 0.47152137756347656, 0.5893921852111816, 1.665102481842041, 1.598802089691162, 2.7173538208007812]\n",
            "number:  [5, 10, 20, 30, 40, 50, 60, 70, 90, 100]\n"
          ]
        }
      ]
    },
    {
      "cell_type": "code",
      "source": [
        "run_continuous(valuations)\n",
        "\n",
        "print(\"time: \", execution_times_continuous)\n",
        "print(\"number: \", num_resources_list_continuous)"
      ],
      "metadata": {
        "id": "oYMzcdtl8g0Q",
        "colab": {
          "base_uri": "https://localhost:8080/"
        },
        "outputId": "e3cb088b-5d1b-4f53-878c-93fad8f7b5c2"
      },
      "execution_count": null,
      "outputs": [
        {
          "output_type": "stream",
          "name": "stdout",
          "text": [
            "time:  [0.029811620712280273, 0.047356605529785156, 0.08641505241394043, 0.13392186164855957, 0.19307875633239746, 0.2040541172027588, 0.36585068702697754, 0.5180809497833252, 0.503997802734375, 0.509319543838501]\n",
            "number:  [5, 10, 20, 30, 40, 50, 60, 70, 90, 100]\n"
          ]
        }
      ]
    },
    {
      "cell_type": "code",
      "source": [
        "# Plot continuous data\n",
        "plt.plot(num_resources_list_continuous, execution_times_continuous, label='Continuous', marker='o')\n",
        "\n",
        "# Plot discrete data\n",
        "plt.plot(num_resources_list_discrete, execution_times_discrete, label='Discrete', marker='x')\n",
        "\n",
        "plt.xlabel('Number of Resources')\n",
        "plt.ylabel('Execution Time (s)')\n",
        "plt.title('Execution Time vs. Number of Resources')\n",
        "plt.legend()\n",
        "\n",
        "plt.show()\n"
      ],
      "metadata": {
        "colab": {
          "base_uri": "https://localhost:8080/",
          "height": 472
        },
        "id": "U1PmctTL4qbb",
        "outputId": "d56701eb-996e-4a47-9bb2-2f257b60ef78"
      },
      "execution_count": null,
      "outputs": [
        {
          "output_type": "display_data",
          "data": {
            "text/plain": [
              "<Figure size 640x480 with 1 Axes>"
            ],
            "image/png": "[encoded data removed]"
          },
          "metadata": {}
        }
      ]
    }
  ],
  "metadata": {
    "colab": {
      "provenance": [],
      "authorship_tag": "ABX9TyN8Bax3UI+0/HZbUc/SkgQT",
      "include_colab_link": true
    },
    "kernelspec": {
      "display_name": "Python 3",
      "name": "python3"
    },
    "language_info": {
      "name": "python"
    }
  },
  "nbformat": 4,
  "nbformat_minor": 0
}